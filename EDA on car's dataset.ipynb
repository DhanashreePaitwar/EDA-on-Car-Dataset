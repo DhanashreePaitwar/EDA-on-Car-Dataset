{
 "cells": [
  {
   "cell_type": "markdown",
   "metadata": {},
   "source": [
    "### Goal : Performing EDA on car dataset and find insights from it."
   ]
  },
  {
   "cell_type": "markdown",
   "metadata": {},
   "source": [
    "Exploring the dataset columns\n",
    "1. Car       : The brand name of the car\n",
    "2. MPG       : It is an abbreviation for \"miles-per-gallon\", it is used to indicate of the fuel economy of a car.\n",
    "3. Cylinders : A cylinder is a power unit of an engines, it's a chamber where gasoline is burned and turned into power. generally engine with more cylinders produce more power and fewer cylinders gets better fuel economy.\n",
    "4. Displacement : Engine displacement is defined as the total volume of air/fuel mixture an engine can draw in during one complete engine cycle.\n",
    "5. Horsepower : The power produced by engine is known as horse power. For cars horsepower tranlate into speed.\n",
    "6. Weight : Total mass of the car  with all equipments and operating consumables.\n",
    "7. Acceleration : Acceleration means changing speed of the car with in the time. The car that can accelerate in a short amount of time is consider as good.\n",
    "8. Model : model name or number of the car\n",
    "9. origin : Origin place of the car."
   ]
  },
  {
   "cell_type": "markdown",
   "metadata": {},
   "source": [
    "####  Importing all necessary libraries"
   ]
  },
  {
   "cell_type": "code",
   "execution_count": 2,
   "metadata": {},
   "outputs": [],
   "source": [
    "import numpy as np\n",
    "import pandas as pd\n",
    "import matplotlib.pyplot as plt\n",
    "import seaborn as sns\n",
    "%matplotlib inline"
   ]
  },
  {
   "cell_type": "markdown",
   "metadata": {},
   "source": [
    "####  Loading dataset"
   ]
  },
  {
   "cell_type": "code",
   "execution_count": 3,
   "metadata": {},
   "outputs": [
    {
     "data": {
      "text/html": [
       "<div>\n",
       "<style scoped>\n",
       "    .dataframe tbody tr th:only-of-type {\n",
       "        vertical-align: middle;\n",
       "    }\n",
       "\n",
       "    .dataframe tbody tr th {\n",
       "        vertical-align: top;\n",
       "    }\n",
       "\n",
       "    .dataframe thead th {\n",
       "        text-align: right;\n",
       "    }\n",
       "</style>\n",
       "<table border=\"1\" class=\"dataframe\">\n",
       "  <thead>\n",
       "    <tr style=\"text-align: right;\">\n",
       "      <th></th>\n",
       "      <th>Car;MPG;Cylinders;Displacement;Horsepower;Weight;Acceleration;Model;Origin</th>\n",
       "    </tr>\n",
       "  </thead>\n",
       "  <tbody>\n",
       "    <tr>\n",
       "      <th>0</th>\n",
       "      <td>STRING;DOUBLE;INT;DOUBLE;DOUBLE;DOUBLE;DOUBLE;...</td>\n",
       "    </tr>\n",
       "    <tr>\n",
       "      <th>1</th>\n",
       "      <td>Chevrolet Chevelle Malibu;18.0;8;307.0;130.0;3...</td>\n",
       "    </tr>\n",
       "    <tr>\n",
       "      <th>2</th>\n",
       "      <td>Buick Skylark 320;15.0;8;350.0;165.0;3693.;11....</td>\n",
       "    </tr>\n",
       "    <tr>\n",
       "      <th>3</th>\n",
       "      <td>Plymouth Satellite;18.0;8;318.0;150.0;3436.;11...</td>\n",
       "    </tr>\n",
       "    <tr>\n",
       "      <th>4</th>\n",
       "      <td>AMC Rebel SST;16.0;8;304.0;150.0;3433.;12.0;70;US</td>\n",
       "    </tr>\n",
       "    <tr>\n",
       "      <th>...</th>\n",
       "      <td>...</td>\n",
       "    </tr>\n",
       "    <tr>\n",
       "      <th>402</th>\n",
       "      <td>Ford Mustang GL;27.0;4;140.0;86.00;2790.;15.6;...</td>\n",
       "    </tr>\n",
       "    <tr>\n",
       "      <th>403</th>\n",
       "      <td>Volkswagen Pickup;44.0;4;97.00;52.00;2130.;24....</td>\n",
       "    </tr>\n",
       "    <tr>\n",
       "      <th>404</th>\n",
       "      <td>Dodge Rampage;32.0;4;135.0;84.00;2295.;11.6;82;US</td>\n",
       "    </tr>\n",
       "    <tr>\n",
       "      <th>405</th>\n",
       "      <td>Ford Ranger;28.0;4;120.0;79.00;2625.;18.6;82;US</td>\n",
       "    </tr>\n",
       "    <tr>\n",
       "      <th>406</th>\n",
       "      <td>Chevy S-10;31.0;4;119.0;82.00;2720.;19.4;82;US</td>\n",
       "    </tr>\n",
       "  </tbody>\n",
       "</table>\n",
       "<p>407 rows × 1 columns</p>\n",
       "</div>"
      ],
      "text/plain": [
       "    Car;MPG;Cylinders;Displacement;Horsepower;Weight;Acceleration;Model;Origin\n",
       "0    STRING;DOUBLE;INT;DOUBLE;DOUBLE;DOUBLE;DOUBLE;...                        \n",
       "1    Chevrolet Chevelle Malibu;18.0;8;307.0;130.0;3...                        \n",
       "2    Buick Skylark 320;15.0;8;350.0;165.0;3693.;11....                        \n",
       "3    Plymouth Satellite;18.0;8;318.0;150.0;3436.;11...                        \n",
       "4    AMC Rebel SST;16.0;8;304.0;150.0;3433.;12.0;70;US                        \n",
       "..                                                 ...                        \n",
       "402  Ford Mustang GL;27.0;4;140.0;86.00;2790.;15.6;...                        \n",
       "403  Volkswagen Pickup;44.0;4;97.00;52.00;2130.;24....                        \n",
       "404  Dodge Rampage;32.0;4;135.0;84.00;2295.;11.6;82;US                        \n",
       "405    Ford Ranger;28.0;4;120.0;79.00;2625.;18.6;82;US                        \n",
       "406     Chevy S-10;31.0;4;119.0;82.00;2720.;19.4;82;US                        \n",
       "\n",
       "[407 rows x 1 columns]"
      ]
     },
     "execution_count": 3,
     "metadata": {},
     "output_type": "execute_result"
    }
   ],
   "source": [
    "data=pd.read_csv('cars.csv')\n",
    "data"
   ]
  },
  {
   "cell_type": "markdown",
   "metadata": {},
   "source": [
    "Here we can see data is not in the form of table, it is seprated by \" ; \" so we have to remove it and make our data in form of pandas dataframe. we can do this while reading the csv file"
   ]
  },
  {
   "cell_type": "code",
   "execution_count": 4,
   "metadata": {},
   "outputs": [
    {
     "data": {
      "text/html": [
       "<div>\n",
       "<style scoped>\n",
       "    .dataframe tbody tr th:only-of-type {\n",
       "        vertical-align: middle;\n",
       "    }\n",
       "\n",
       "    .dataframe tbody tr th {\n",
       "        vertical-align: top;\n",
       "    }\n",
       "\n",
       "    .dataframe thead th {\n",
       "        text-align: right;\n",
       "    }\n",
       "</style>\n",
       "<table border=\"1\" class=\"dataframe\">\n",
       "  <thead>\n",
       "    <tr style=\"text-align: right;\">\n",
       "      <th></th>\n",
       "      <th>Car</th>\n",
       "      <th>MPG</th>\n",
       "      <th>Cylinders</th>\n",
       "      <th>Displacement</th>\n",
       "      <th>Horsepower</th>\n",
       "      <th>Weight</th>\n",
       "      <th>Acceleration</th>\n",
       "      <th>Model</th>\n",
       "      <th>Origin</th>\n",
       "    </tr>\n",
       "  </thead>\n",
       "  <tbody>\n",
       "    <tr>\n",
       "      <th>0</th>\n",
       "      <td>STRING</td>\n",
       "      <td>DOUBLE</td>\n",
       "      <td>INT</td>\n",
       "      <td>DOUBLE</td>\n",
       "      <td>DOUBLE</td>\n",
       "      <td>DOUBLE</td>\n",
       "      <td>DOUBLE</td>\n",
       "      <td>INT</td>\n",
       "      <td>CAT</td>\n",
       "    </tr>\n",
       "    <tr>\n",
       "      <th>1</th>\n",
       "      <td>Chevrolet Chevelle Malibu</td>\n",
       "      <td>18.0</td>\n",
       "      <td>8</td>\n",
       "      <td>307.0</td>\n",
       "      <td>130.0</td>\n",
       "      <td>3504.</td>\n",
       "      <td>12.0</td>\n",
       "      <td>70</td>\n",
       "      <td>US</td>\n",
       "    </tr>\n",
       "    <tr>\n",
       "      <th>2</th>\n",
       "      <td>Buick Skylark 320</td>\n",
       "      <td>15.0</td>\n",
       "      <td>8</td>\n",
       "      <td>350.0</td>\n",
       "      <td>165.0</td>\n",
       "      <td>3693.</td>\n",
       "      <td>11.5</td>\n",
       "      <td>70</td>\n",
       "      <td>US</td>\n",
       "    </tr>\n",
       "    <tr>\n",
       "      <th>3</th>\n",
       "      <td>Plymouth Satellite</td>\n",
       "      <td>18.0</td>\n",
       "      <td>8</td>\n",
       "      <td>318.0</td>\n",
       "      <td>150.0</td>\n",
       "      <td>3436.</td>\n",
       "      <td>11.0</td>\n",
       "      <td>70</td>\n",
       "      <td>US</td>\n",
       "    </tr>\n",
       "    <tr>\n",
       "      <th>4</th>\n",
       "      <td>AMC Rebel SST</td>\n",
       "      <td>16.0</td>\n",
       "      <td>8</td>\n",
       "      <td>304.0</td>\n",
       "      <td>150.0</td>\n",
       "      <td>3433.</td>\n",
       "      <td>12.0</td>\n",
       "      <td>70</td>\n",
       "      <td>US</td>\n",
       "    </tr>\n",
       "    <tr>\n",
       "      <th>...</th>\n",
       "      <td>...</td>\n",
       "      <td>...</td>\n",
       "      <td>...</td>\n",
       "      <td>...</td>\n",
       "      <td>...</td>\n",
       "      <td>...</td>\n",
       "      <td>...</td>\n",
       "      <td>...</td>\n",
       "      <td>...</td>\n",
       "    </tr>\n",
       "    <tr>\n",
       "      <th>402</th>\n",
       "      <td>Ford Mustang GL</td>\n",
       "      <td>27.0</td>\n",
       "      <td>4</td>\n",
       "      <td>140.0</td>\n",
       "      <td>86.00</td>\n",
       "      <td>2790.</td>\n",
       "      <td>15.6</td>\n",
       "      <td>82</td>\n",
       "      <td>US</td>\n",
       "    </tr>\n",
       "    <tr>\n",
       "      <th>403</th>\n",
       "      <td>Volkswagen Pickup</td>\n",
       "      <td>44.0</td>\n",
       "      <td>4</td>\n",
       "      <td>97.00</td>\n",
       "      <td>52.00</td>\n",
       "      <td>2130.</td>\n",
       "      <td>24.6</td>\n",
       "      <td>82</td>\n",
       "      <td>Europe</td>\n",
       "    </tr>\n",
       "    <tr>\n",
       "      <th>404</th>\n",
       "      <td>Dodge Rampage</td>\n",
       "      <td>32.0</td>\n",
       "      <td>4</td>\n",
       "      <td>135.0</td>\n",
       "      <td>84.00</td>\n",
       "      <td>2295.</td>\n",
       "      <td>11.6</td>\n",
       "      <td>82</td>\n",
       "      <td>US</td>\n",
       "    </tr>\n",
       "    <tr>\n",
       "      <th>405</th>\n",
       "      <td>Ford Ranger</td>\n",
       "      <td>28.0</td>\n",
       "      <td>4</td>\n",
       "      <td>120.0</td>\n",
       "      <td>79.00</td>\n",
       "      <td>2625.</td>\n",
       "      <td>18.6</td>\n",
       "      <td>82</td>\n",
       "      <td>US</td>\n",
       "    </tr>\n",
       "    <tr>\n",
       "      <th>406</th>\n",
       "      <td>Chevy S-10</td>\n",
       "      <td>31.0</td>\n",
       "      <td>4</td>\n",
       "      <td>119.0</td>\n",
       "      <td>82.00</td>\n",
       "      <td>2720.</td>\n",
       "      <td>19.4</td>\n",
       "      <td>82</td>\n",
       "      <td>US</td>\n",
       "    </tr>\n",
       "  </tbody>\n",
       "</table>\n",
       "<p>407 rows × 9 columns</p>\n",
       "</div>"
      ],
      "text/plain": [
       "                           Car     MPG Cylinders Displacement Horsepower  \\\n",
       "0                       STRING  DOUBLE       INT       DOUBLE     DOUBLE   \n",
       "1    Chevrolet Chevelle Malibu    18.0         8        307.0      130.0   \n",
       "2            Buick Skylark 320    15.0         8        350.0      165.0   \n",
       "3           Plymouth Satellite    18.0         8        318.0      150.0   \n",
       "4                AMC Rebel SST    16.0         8        304.0      150.0   \n",
       "..                         ...     ...       ...          ...        ...   \n",
       "402            Ford Mustang GL    27.0         4        140.0      86.00   \n",
       "403          Volkswagen Pickup    44.0         4        97.00      52.00   \n",
       "404              Dodge Rampage    32.0         4        135.0      84.00   \n",
       "405                Ford Ranger    28.0         4        120.0      79.00   \n",
       "406                 Chevy S-10    31.0         4        119.0      82.00   \n",
       "\n",
       "     Weight Acceleration Model  Origin  \n",
       "0    DOUBLE       DOUBLE   INT     CAT  \n",
       "1     3504.         12.0    70      US  \n",
       "2     3693.         11.5    70      US  \n",
       "3     3436.         11.0    70      US  \n",
       "4     3433.         12.0    70      US  \n",
       "..      ...          ...   ...     ...  \n",
       "402   2790.         15.6    82      US  \n",
       "403   2130.         24.6    82  Europe  \n",
       "404   2295.         11.6    82      US  \n",
       "405   2625.         18.6    82      US  \n",
       "406   2720.         19.4    82      US  \n",
       "\n",
       "[407 rows x 9 columns]"
      ]
     },
     "execution_count": 4,
     "metadata": {},
     "output_type": "execute_result"
    }
   ],
   "source": [
    "data=pd.read_csv('cars.csv',sep=';')\n",
    "data\n"
   ]
  },
  {
   "cell_type": "markdown",
   "metadata": {},
   "source": [
    "#### Exploring data by seeing top 5 row's and bottom 5 row's"
   ]
  },
  {
   "cell_type": "code",
   "execution_count": 5,
   "metadata": {},
   "outputs": [
    {
     "data": {
      "text/html": [
       "<div>\n",
       "<style scoped>\n",
       "    .dataframe tbody tr th:only-of-type {\n",
       "        vertical-align: middle;\n",
       "    }\n",
       "\n",
       "    .dataframe tbody tr th {\n",
       "        vertical-align: top;\n",
       "    }\n",
       "\n",
       "    .dataframe thead th {\n",
       "        text-align: right;\n",
       "    }\n",
       "</style>\n",
       "<table border=\"1\" class=\"dataframe\">\n",
       "  <thead>\n",
       "    <tr style=\"text-align: right;\">\n",
       "      <th></th>\n",
       "      <th>Car</th>\n",
       "      <th>MPG</th>\n",
       "      <th>Cylinders</th>\n",
       "      <th>Displacement</th>\n",
       "      <th>Horsepower</th>\n",
       "      <th>Weight</th>\n",
       "      <th>Acceleration</th>\n",
       "      <th>Model</th>\n",
       "      <th>Origin</th>\n",
       "    </tr>\n",
       "  </thead>\n",
       "  <tbody>\n",
       "    <tr>\n",
       "      <th>0</th>\n",
       "      <td>STRING</td>\n",
       "      <td>DOUBLE</td>\n",
       "      <td>INT</td>\n",
       "      <td>DOUBLE</td>\n",
       "      <td>DOUBLE</td>\n",
       "      <td>DOUBLE</td>\n",
       "      <td>DOUBLE</td>\n",
       "      <td>INT</td>\n",
       "      <td>CAT</td>\n",
       "    </tr>\n",
       "    <tr>\n",
       "      <th>1</th>\n",
       "      <td>Chevrolet Chevelle Malibu</td>\n",
       "      <td>18.0</td>\n",
       "      <td>8</td>\n",
       "      <td>307.0</td>\n",
       "      <td>130.0</td>\n",
       "      <td>3504.</td>\n",
       "      <td>12.0</td>\n",
       "      <td>70</td>\n",
       "      <td>US</td>\n",
       "    </tr>\n",
       "    <tr>\n",
       "      <th>2</th>\n",
       "      <td>Buick Skylark 320</td>\n",
       "      <td>15.0</td>\n",
       "      <td>8</td>\n",
       "      <td>350.0</td>\n",
       "      <td>165.0</td>\n",
       "      <td>3693.</td>\n",
       "      <td>11.5</td>\n",
       "      <td>70</td>\n",
       "      <td>US</td>\n",
       "    </tr>\n",
       "    <tr>\n",
       "      <th>3</th>\n",
       "      <td>Plymouth Satellite</td>\n",
       "      <td>18.0</td>\n",
       "      <td>8</td>\n",
       "      <td>318.0</td>\n",
       "      <td>150.0</td>\n",
       "      <td>3436.</td>\n",
       "      <td>11.0</td>\n",
       "      <td>70</td>\n",
       "      <td>US</td>\n",
       "    </tr>\n",
       "    <tr>\n",
       "      <th>4</th>\n",
       "      <td>AMC Rebel SST</td>\n",
       "      <td>16.0</td>\n",
       "      <td>8</td>\n",
       "      <td>304.0</td>\n",
       "      <td>150.0</td>\n",
       "      <td>3433.</td>\n",
       "      <td>12.0</td>\n",
       "      <td>70</td>\n",
       "      <td>US</td>\n",
       "    </tr>\n",
       "  </tbody>\n",
       "</table>\n",
       "</div>"
      ],
      "text/plain": [
       "                         Car     MPG Cylinders Displacement Horsepower  \\\n",
       "0                     STRING  DOUBLE       INT       DOUBLE     DOUBLE   \n",
       "1  Chevrolet Chevelle Malibu    18.0         8        307.0      130.0   \n",
       "2          Buick Skylark 320    15.0         8        350.0      165.0   \n",
       "3         Plymouth Satellite    18.0         8        318.0      150.0   \n",
       "4              AMC Rebel SST    16.0         8        304.0      150.0   \n",
       "\n",
       "   Weight Acceleration Model Origin  \n",
       "0  DOUBLE       DOUBLE   INT    CAT  \n",
       "1   3504.         12.0    70     US  \n",
       "2   3693.         11.5    70     US  \n",
       "3   3436.         11.0    70     US  \n",
       "4   3433.         12.0    70     US  "
      ]
     },
     "execution_count": 5,
     "metadata": {},
     "output_type": "execute_result"
    }
   ],
   "source": [
    "data.head()"
   ]
  },
  {
   "cell_type": "code",
   "execution_count": 6,
   "metadata": {},
   "outputs": [
    {
     "data": {
      "text/html": [
       "<div>\n",
       "<style scoped>\n",
       "    .dataframe tbody tr th:only-of-type {\n",
       "        vertical-align: middle;\n",
       "    }\n",
       "\n",
       "    .dataframe tbody tr th {\n",
       "        vertical-align: top;\n",
       "    }\n",
       "\n",
       "    .dataframe thead th {\n",
       "        text-align: right;\n",
       "    }\n",
       "</style>\n",
       "<table border=\"1\" class=\"dataframe\">\n",
       "  <thead>\n",
       "    <tr style=\"text-align: right;\">\n",
       "      <th></th>\n",
       "      <th>Car</th>\n",
       "      <th>MPG</th>\n",
       "      <th>Cylinders</th>\n",
       "      <th>Displacement</th>\n",
       "      <th>Horsepower</th>\n",
       "      <th>Weight</th>\n",
       "      <th>Acceleration</th>\n",
       "      <th>Model</th>\n",
       "      <th>Origin</th>\n",
       "    </tr>\n",
       "  </thead>\n",
       "  <tbody>\n",
       "    <tr>\n",
       "      <th>402</th>\n",
       "      <td>Ford Mustang GL</td>\n",
       "      <td>27.0</td>\n",
       "      <td>4</td>\n",
       "      <td>140.0</td>\n",
       "      <td>86.00</td>\n",
       "      <td>2790.</td>\n",
       "      <td>15.6</td>\n",
       "      <td>82</td>\n",
       "      <td>US</td>\n",
       "    </tr>\n",
       "    <tr>\n",
       "      <th>403</th>\n",
       "      <td>Volkswagen Pickup</td>\n",
       "      <td>44.0</td>\n",
       "      <td>4</td>\n",
       "      <td>97.00</td>\n",
       "      <td>52.00</td>\n",
       "      <td>2130.</td>\n",
       "      <td>24.6</td>\n",
       "      <td>82</td>\n",
       "      <td>Europe</td>\n",
       "    </tr>\n",
       "    <tr>\n",
       "      <th>404</th>\n",
       "      <td>Dodge Rampage</td>\n",
       "      <td>32.0</td>\n",
       "      <td>4</td>\n",
       "      <td>135.0</td>\n",
       "      <td>84.00</td>\n",
       "      <td>2295.</td>\n",
       "      <td>11.6</td>\n",
       "      <td>82</td>\n",
       "      <td>US</td>\n",
       "    </tr>\n",
       "    <tr>\n",
       "      <th>405</th>\n",
       "      <td>Ford Ranger</td>\n",
       "      <td>28.0</td>\n",
       "      <td>4</td>\n",
       "      <td>120.0</td>\n",
       "      <td>79.00</td>\n",
       "      <td>2625.</td>\n",
       "      <td>18.6</td>\n",
       "      <td>82</td>\n",
       "      <td>US</td>\n",
       "    </tr>\n",
       "    <tr>\n",
       "      <th>406</th>\n",
       "      <td>Chevy S-10</td>\n",
       "      <td>31.0</td>\n",
       "      <td>4</td>\n",
       "      <td>119.0</td>\n",
       "      <td>82.00</td>\n",
       "      <td>2720.</td>\n",
       "      <td>19.4</td>\n",
       "      <td>82</td>\n",
       "      <td>US</td>\n",
       "    </tr>\n",
       "  </tbody>\n",
       "</table>\n",
       "</div>"
      ],
      "text/plain": [
       "                   Car   MPG Cylinders Displacement Horsepower Weight  \\\n",
       "402    Ford Mustang GL  27.0         4        140.0      86.00  2790.   \n",
       "403  Volkswagen Pickup  44.0         4        97.00      52.00  2130.   \n",
       "404      Dodge Rampage  32.0         4        135.0      84.00  2295.   \n",
       "405        Ford Ranger  28.0         4        120.0      79.00  2625.   \n",
       "406         Chevy S-10  31.0         4        119.0      82.00  2720.   \n",
       "\n",
       "    Acceleration Model  Origin  \n",
       "402         15.6    82      US  \n",
       "403         24.6    82  Europe  \n",
       "404         11.6    82      US  \n",
       "405         18.6    82      US  \n",
       "406         19.4    82      US  "
      ]
     },
     "execution_count": 6,
     "metadata": {},
     "output_type": "execute_result"
    }
   ],
   "source": [
    "data.tail()"
   ]
  },
  {
   "cell_type": "markdown",
   "metadata": {},
   "source": [
    "####  Explore columns of the data set"
   ]
  },
  {
   "cell_type": "code",
   "execution_count": 7,
   "metadata": {},
   "outputs": [
    {
     "data": {
      "text/plain": [
       "Index(['Car', 'MPG', 'Cylinders', 'Displacement', 'Horsepower', 'Weight',\n",
       "       'Acceleration', 'Model', 'Origin'],\n",
       "      dtype='object')"
      ]
     },
     "execution_count": 7,
     "metadata": {},
     "output_type": "execute_result"
    }
   ],
   "source": [
    "data.columns"
   ]
  },
  {
   "cell_type": "code",
   "execution_count": 8,
   "metadata": {},
   "outputs": [
    {
     "data": {
      "text/plain": [
       "RangeIndex(start=0, stop=407, step=1)"
      ]
     },
     "execution_count": 8,
     "metadata": {},
     "output_type": "execute_result"
    }
   ],
   "source": [
    "data.index"
   ]
  },
  {
   "cell_type": "markdown",
   "metadata": {},
   "source": [
    "####  how many records are present"
   ]
  },
  {
   "cell_type": "code",
   "execution_count": 9,
   "metadata": {},
   "outputs": [
    {
     "data": {
      "text/plain": [
       "(407, 9)"
      ]
     },
     "execution_count": 9,
     "metadata": {},
     "output_type": "execute_result"
    }
   ],
   "source": [
    "data.shape"
   ]
  },
  {
   "cell_type": "markdown",
   "metadata": {},
   "source": [
    "Observations :- \n",
    "    1. car data set contains 407 rows and 9 columns"
   ]
  },
  {
   "cell_type": "code",
   "execution_count": 10,
   "metadata": {},
   "outputs": [
    {
     "data": {
      "text/plain": [
       "2"
      ]
     },
     "execution_count": 10,
     "metadata": {},
     "output_type": "execute_result"
    }
   ],
   "source": [
    "data.ndim"
   ]
  },
  {
   "cell_type": "markdown",
   "metadata": {},
   "source": [
    "####  Exploring data types"
   ]
  },
  {
   "cell_type": "code",
   "execution_count": 11,
   "metadata": {},
   "outputs": [
    {
     "name": "stdout",
     "output_type": "stream",
     "text": [
      "<class 'pandas.core.frame.DataFrame'>\n",
      "RangeIndex: 407 entries, 0 to 406\n",
      "Data columns (total 9 columns):\n",
      " #   Column        Non-Null Count  Dtype \n",
      "---  ------        --------------  ----- \n",
      " 0   Car           407 non-null    object\n",
      " 1   MPG           407 non-null    object\n",
      " 2   Cylinders     407 non-null    object\n",
      " 3   Displacement  407 non-null    object\n",
      " 4   Horsepower    407 non-null    object\n",
      " 5   Weight        407 non-null    object\n",
      " 6   Acceleration  407 non-null    object\n",
      " 7   Model         407 non-null    object\n",
      " 8   Origin        407 non-null    object\n",
      "dtypes: object(9)\n",
      "memory usage: 28.7+ KB\n"
     ]
    }
   ],
   "source": [
    "data.info()"
   ]
  },
  {
   "cell_type": "markdown",
   "metadata": {},
   "source": [
    "#### Counting missing values\n"
   ]
  },
  {
   "cell_type": "code",
   "execution_count": 12,
   "metadata": {},
   "outputs": [
    {
     "data": {
      "text/plain": [
       "Car             0\n",
       "MPG             0\n",
       "Cylinders       0\n",
       "Displacement    0\n",
       "Horsepower      0\n",
       "Weight          0\n",
       "Acceleration    0\n",
       "Model           0\n",
       "Origin          0\n",
       "dtype: int64"
      ]
     },
     "execution_count": 12,
     "metadata": {},
     "output_type": "execute_result"
    }
   ],
   "source": [
    "data.isnull().sum()"
   ]
  },
  {
   "cell_type": "code",
   "execution_count": 13,
   "metadata": {},
   "outputs": [
    {
     "data": {
      "text/plain": [
       "Car             0.0\n",
       "MPG             0.0\n",
       "Cylinders       0.0\n",
       "Displacement    0.0\n",
       "Horsepower      0.0\n",
       "Weight          0.0\n",
       "Acceleration    0.0\n",
       "Model           0.0\n",
       "Origin          0.0\n",
       "dtype: float64"
      ]
     },
     "execution_count": 13,
     "metadata": {},
     "output_type": "execute_result"
    }
   ],
   "source": [
    "data.isnull().mean()"
   ]
  },
  {
   "cell_type": "markdown",
   "metadata": {},
   "source": [
    "Observation : From above we can see our car dataset has 0 missing values."
   ]
  },
  {
   "cell_type": "markdown",
   "metadata": {},
   "source": [
    "#### deleting 1st record"
   ]
  },
  {
   "cell_type": "code",
   "execution_count": 14,
   "metadata": {},
   "outputs": [
    {
     "data": {
      "text/html": [
       "<div>\n",
       "<style scoped>\n",
       "    .dataframe tbody tr th:only-of-type {\n",
       "        vertical-align: middle;\n",
       "    }\n",
       "\n",
       "    .dataframe tbody tr th {\n",
       "        vertical-align: top;\n",
       "    }\n",
       "\n",
       "    .dataframe thead th {\n",
       "        text-align: right;\n",
       "    }\n",
       "</style>\n",
       "<table border=\"1\" class=\"dataframe\">\n",
       "  <thead>\n",
       "    <tr style=\"text-align: right;\">\n",
       "      <th></th>\n",
       "      <th>Car</th>\n",
       "      <th>MPG</th>\n",
       "      <th>Cylinders</th>\n",
       "      <th>Displacement</th>\n",
       "      <th>Horsepower</th>\n",
       "      <th>Weight</th>\n",
       "      <th>Acceleration</th>\n",
       "      <th>Model</th>\n",
       "      <th>Origin</th>\n",
       "    </tr>\n",
       "  </thead>\n",
       "  <tbody>\n",
       "    <tr>\n",
       "      <th>0</th>\n",
       "      <td>STRING</td>\n",
       "      <td>DOUBLE</td>\n",
       "      <td>INT</td>\n",
       "      <td>DOUBLE</td>\n",
       "      <td>DOUBLE</td>\n",
       "      <td>DOUBLE</td>\n",
       "      <td>DOUBLE</td>\n",
       "      <td>INT</td>\n",
       "      <td>CAT</td>\n",
       "    </tr>\n",
       "    <tr>\n",
       "      <th>1</th>\n",
       "      <td>Chevrolet Chevelle Malibu</td>\n",
       "      <td>18.0</td>\n",
       "      <td>8</td>\n",
       "      <td>307.0</td>\n",
       "      <td>130.0</td>\n",
       "      <td>3504.</td>\n",
       "      <td>12.0</td>\n",
       "      <td>70</td>\n",
       "      <td>US</td>\n",
       "    </tr>\n",
       "    <tr>\n",
       "      <th>2</th>\n",
       "      <td>Buick Skylark 320</td>\n",
       "      <td>15.0</td>\n",
       "      <td>8</td>\n",
       "      <td>350.0</td>\n",
       "      <td>165.0</td>\n",
       "      <td>3693.</td>\n",
       "      <td>11.5</td>\n",
       "      <td>70</td>\n",
       "      <td>US</td>\n",
       "    </tr>\n",
       "  </tbody>\n",
       "</table>\n",
       "</div>"
      ],
      "text/plain": [
       "                         Car     MPG Cylinders Displacement Horsepower  \\\n",
       "0                     STRING  DOUBLE       INT       DOUBLE     DOUBLE   \n",
       "1  Chevrolet Chevelle Malibu    18.0         8        307.0      130.0   \n",
       "2          Buick Skylark 320    15.0         8        350.0      165.0   \n",
       "\n",
       "   Weight Acceleration Model Origin  \n",
       "0  DOUBLE       DOUBLE   INT    CAT  \n",
       "1   3504.         12.0    70     US  \n",
       "2   3693.         11.5    70     US  "
      ]
     },
     "execution_count": 14,
     "metadata": {},
     "output_type": "execute_result"
    }
   ],
   "source": [
    "data.head(3)"
   ]
  },
  {
   "cell_type": "markdown",
   "metadata": {},
   "source": [
    "Observation : Here 1st row of the data set is not informative so we dan drop 1st record"
   ]
  },
  {
   "cell_type": "code",
   "execution_count": 15,
   "metadata": {},
   "outputs": [],
   "source": [
    "data.drop(data.index[0],inplace=True)\n"
   ]
  },
  {
   "cell_type": "code",
   "execution_count": 16,
   "metadata": {},
   "outputs": [
    {
     "data": {
      "text/html": [
       "<div>\n",
       "<style scoped>\n",
       "    .dataframe tbody tr th:only-of-type {\n",
       "        vertical-align: middle;\n",
       "    }\n",
       "\n",
       "    .dataframe tbody tr th {\n",
       "        vertical-align: top;\n",
       "    }\n",
       "\n",
       "    .dataframe thead th {\n",
       "        text-align: right;\n",
       "    }\n",
       "</style>\n",
       "<table border=\"1\" class=\"dataframe\">\n",
       "  <thead>\n",
       "    <tr style=\"text-align: right;\">\n",
       "      <th></th>\n",
       "      <th>Car</th>\n",
       "      <th>MPG</th>\n",
       "      <th>Cylinders</th>\n",
       "      <th>Displacement</th>\n",
       "      <th>Horsepower</th>\n",
       "      <th>Weight</th>\n",
       "      <th>Acceleration</th>\n",
       "      <th>Model</th>\n",
       "      <th>Origin</th>\n",
       "    </tr>\n",
       "  </thead>\n",
       "  <tbody>\n",
       "    <tr>\n",
       "      <th>1</th>\n",
       "      <td>Chevrolet Chevelle Malibu</td>\n",
       "      <td>18.0</td>\n",
       "      <td>8</td>\n",
       "      <td>307.0</td>\n",
       "      <td>130.0</td>\n",
       "      <td>3504.</td>\n",
       "      <td>12.0</td>\n",
       "      <td>70</td>\n",
       "      <td>US</td>\n",
       "    </tr>\n",
       "    <tr>\n",
       "      <th>2</th>\n",
       "      <td>Buick Skylark 320</td>\n",
       "      <td>15.0</td>\n",
       "      <td>8</td>\n",
       "      <td>350.0</td>\n",
       "      <td>165.0</td>\n",
       "      <td>3693.</td>\n",
       "      <td>11.5</td>\n",
       "      <td>70</td>\n",
       "      <td>US</td>\n",
       "    </tr>\n",
       "    <tr>\n",
       "      <th>3</th>\n",
       "      <td>Plymouth Satellite</td>\n",
       "      <td>18.0</td>\n",
       "      <td>8</td>\n",
       "      <td>318.0</td>\n",
       "      <td>150.0</td>\n",
       "      <td>3436.</td>\n",
       "      <td>11.0</td>\n",
       "      <td>70</td>\n",
       "      <td>US</td>\n",
       "    </tr>\n",
       "  </tbody>\n",
       "</table>\n",
       "</div>"
      ],
      "text/plain": [
       "                         Car   MPG Cylinders Displacement Horsepower Weight  \\\n",
       "1  Chevrolet Chevelle Malibu  18.0         8        307.0      130.0  3504.   \n",
       "2          Buick Skylark 320  15.0         8        350.0      165.0  3693.   \n",
       "3         Plymouth Satellite  18.0         8        318.0      150.0  3436.   \n",
       "\n",
       "  Acceleration Model Origin  \n",
       "1         12.0    70     US  \n",
       "2         11.5    70     US  \n",
       "3         11.0    70     US  "
      ]
     },
     "execution_count": 16,
     "metadata": {},
     "output_type": "execute_result"
    }
   ],
   "source": [
    "data.head(3)"
   ]
  },
  {
   "cell_type": "code",
   "execution_count": 17,
   "metadata": {},
   "outputs": [
    {
     "data": {
      "text/plain": [
       "Int64Index([  1,   2,   3,   4,   5,   6,   7,   8,   9,  10,\n",
       "            ...\n",
       "            397, 398, 399, 400, 401, 402, 403, 404, 405, 406],\n",
       "           dtype='int64', length=406)"
      ]
     },
     "execution_count": 17,
     "metadata": {},
     "output_type": "execute_result"
    }
   ],
   "source": [
    "data.index"
   ]
  },
  {
   "cell_type": "markdown",
   "metadata": {},
   "source": [
    "Observation : Here we can see now the index starts from 1 rather than 0."
   ]
  },
  {
   "cell_type": "markdown",
   "metadata": {},
   "source": [
    "#### Checking for duplicate rows"
   ]
  },
  {
   "cell_type": "code",
   "execution_count": 18,
   "metadata": {},
   "outputs": [
    {
     "data": {
      "text/plain": [
       "0"
      ]
     },
     "execution_count": 18,
     "metadata": {},
     "output_type": "execute_result"
    }
   ],
   "source": [
    "data.duplicated().sum()"
   ]
  },
  {
   "cell_type": "markdown",
   "metadata": {},
   "source": [
    "observation : zero duplicate records are present in the car dataset."
   ]
  },
  {
   "cell_type": "markdown",
   "metadata": {},
   "source": [
    "#### Finding unique values"
   ]
  },
  {
   "cell_type": "code",
   "execution_count": 19,
   "metadata": {},
   "outputs": [
    {
     "data": {
      "text/plain": [
       "array(['Chevrolet Chevelle Malibu', 'Buick Skylark 320',\n",
       "       'Plymouth Satellite', 'AMC Rebel SST', 'Ford Torino',\n",
       "       'Ford Galaxie 500', 'Chevrolet Impala', 'Plymouth Fury iii',\n",
       "       'Pontiac Catalina', 'AMC Ambassador DPL', 'Citroen DS-21 Pallas',\n",
       "       'Chevrolet Chevelle Concours (sw)', 'Ford Torino (sw)',\n",
       "       'Plymouth Satellite (sw)', 'AMC Rebel SST (sw)',\n",
       "       'Dodge Challenger SE', \"Plymouth 'Cuda 340\",\n",
       "       'Ford Mustang Boss 302', 'Chevrolet Monte Carlo',\n",
       "       'Buick Estate Wagon (sw)', 'Toyota Corolla Mark ii',\n",
       "       'Plymouth Duster', 'AMC Hornet', 'Ford Maverick', 'Datsun PL510',\n",
       "       'Volkswagen 1131 Deluxe Sedan', 'Peugeot 504', 'Audi 100 LS',\n",
       "       'Saab 99e', 'BMW 2002', 'AMC Gremlin', 'Ford F250', 'Chevy C20',\n",
       "       'Dodge D200', 'Hi 1200D', 'Chevrolet Vega 2300', 'Toyota Corolla',\n",
       "       'Ford Pinto', 'Volkswagen Super Beetle 117',\n",
       "       'Plymouth Satellite Custom', 'Ford Torino 500', 'AMC Matador',\n",
       "       'Pontiac Catalina Brougham', 'Dodge Monaco (sw)',\n",
       "       'Ford Country Squire (sw)', 'Pontiac Safari (sw)',\n",
       "       'AMC Hornet Sportabout (sw)', 'Chevrolet Vega (sw)',\n",
       "       'Pontiac Firebird', 'Ford Mustang', 'Mercury Capri 2000',\n",
       "       'Opel 1900', 'Peugeot 304', 'Fiat 124B', 'Toyota Corolla 1200',\n",
       "       'Datsun 1200', 'Volkswagen Model 111', 'Plymouth Cricket',\n",
       "       'Toyota Corolla Hardtop', 'Dodge Colt Hardtop',\n",
       "       'Volkswagen Type 3', 'Chevrolet Vega', 'Ford Pinto Runabout',\n",
       "       'Plymouth Fury III', 'AMC Ambassador SST', 'Mercury Marquis',\n",
       "       'Buick LeSabre Custom', 'Oldsmobile Delta 88 Royale',\n",
       "       'Chrysler Newport Royal', 'Mazda RX2 Coupe', 'AMC Matador (sw)',\n",
       "       'Ford Gran Torino (sw)', 'Plymouth Satellite Custom (sw)',\n",
       "       'Volvo 145e (sw)', 'Volkswagen 411 (sw)', 'Peugeot 504 (sw)',\n",
       "       'Renault 12 (sw)', 'Ford Pinto (sw)', 'Datsun 510 (sw)',\n",
       "       'Toyota Corolla Mark II (sw)', 'Dodge Colt (sw)',\n",
       "       'Toyota Corolla 1600 (sw)', 'Buick Century 350',\n",
       "       'Chevrolet Malibu', 'Ford Gran Torino', 'Dodge Coronet Custom',\n",
       "       'Mercury Marquis Brougham', 'Chevrolet Caprice Classic',\n",
       "       'Ford LTD', 'Plymouth Fury Gran Sedan',\n",
       "       'Chrysler New Yorker Brougham', 'Buick Electra 225 Custom',\n",
       "       'AMC Ambassador Brougham', 'Plymouth Valiant',\n",
       "       'Chevrolet Nova Custom', 'Volkswagen Super Beetle', 'Ford Country',\n",
       "       'Plymouth Custom Suburb', 'Oldsmobile Vista Cruiser',\n",
       "       'Toyota Camry', 'Datsun 610', 'Mazda RX3', 'Mercury Capri v6',\n",
       "       'Fiat 124 Sport Coupe', 'Chevrolet Monte Carlo S',\n",
       "       'Pontiac Grand Prix', 'Fiat 128', 'Opel Manta', 'Audi 100LS',\n",
       "       'Volvo 144ea', 'Dodge Dart Custom', 'Saab 99le', 'Toyota Mark II',\n",
       "       'Oldsmobile Omega', 'Chevrolet Nova', 'Datsun B210',\n",
       "       'Chevrolet Chevelle Malibu Classic', 'Plymouth Satellite Sebring',\n",
       "       'Buick Century Luxus (sw)', 'Dodge Coronet Custom (sw)',\n",
       "       'Audi Fox', 'Volkswagen Dasher', 'Datsun 710', 'Dodge Colt',\n",
       "       'Fiat 124 TC', 'Honda Civic', 'Subaru', 'Fiat x1.9',\n",
       "       'Plymouth Valiant Custom', 'Mercury Monarch', 'Chevrolet Bel Air',\n",
       "       'Plymouth Grand Fury', 'Buick Century',\n",
       "       'Chevrolete Chevelle Malibu', 'Plymouth Fury', 'Buick Skyhawk',\n",
       "       'Chevrolet Monza 2+2', 'Ford Mustang II', 'Pontiac Astro',\n",
       "       'Volkswagen Rabbit', 'AMC Pacer', 'Volvo 244DL', 'Saab 99LE',\n",
       "       'Honda Civic CVCC', 'Fiat 131', 'Capri ii', 'Renault 12tl',\n",
       "       'Dodge Coronet Brougham', 'Chevrolet Chevette', 'Chevrolet Woody',\n",
       "       'Dodge Aspen SE', 'Ford Grenada ghia', 'Pontiac Ventura SJ',\n",
       "       'AMC Pacer d/l', 'Datsun B-210', 'Volvo 245',\n",
       "       'Plymouth Volare Premier v8', 'Mercedes-Benz 280s',\n",
       "       'Cadillac Seville', 'Chevrolet C10', 'Ford F108', 'Dodge D100',\n",
       "       'Honda Accord CVCC', 'Buick Opel Isuzu Deluxe', 'Renault 5 GTL',\n",
       "       'Plymouth Arrow GS', 'Datsun F-10 Hatchback',\n",
       "       'Oldsmobile Cutlass Supreme', 'Dodge Monaco Brougham',\n",
       "       'Mercury Cougar Brougham', 'Chevrolet Concours', 'Buick Skylark',\n",
       "       'Plymouth Volare Custom', 'Ford Grenada', 'Pontiac Grand Prix LJ',\n",
       "       'Chevrolet Monte Carlo Landau', 'Chrysler Cordoba',\n",
       "       'Ford Thunderbird', 'Volkswagen Rabbit Custom',\n",
       "       'Pontiac Sunbird Coupe', 'Toyota Corolla Liftback',\n",
       "       'Ford Mustang II 2+2', 'Dodge Colt m/m', 'Subaru DL', 'Datsun 810',\n",
       "       'BMW 320i', 'Mazda RX-4', 'Volkswagen Rabbit Custom Diesel',\n",
       "       'Ford Fiesta', 'Mazda GLC Deluxe', 'Datsun B210 GX',\n",
       "       'Oldsmobile Cutlass Salon Brougham', 'Dodge Diplomat',\n",
       "       'Mercury Monarch ghia', 'Pontiac Phoenix LJ',\n",
       "       'Ford Fairmont (auto)', 'Ford Fairmont (man)', 'Plymouth Volare',\n",
       "       'AMC Concord', 'Buick Century Special', 'Mercury Zephyr',\n",
       "       'Dodge Aspen', 'AMC Concord d/l',\n",
       "       'Buick Regal Sport Coupe (turbo)', 'Ford Futura',\n",
       "       'Dodge Magnum XE', 'Datsun 510', 'Dodge Omni',\n",
       "       'Toyota Celica GT Liftback', 'Plymouth Sapporo',\n",
       "       'Oldsmobile Starfire SX', 'Datsun 200-SX', 'Audi 5000',\n",
       "       'Volvo 264gl', 'Saab 99gle', 'Peugeot 604sl',\n",
       "       'Volkswagen Scirocco', 'Honda Accord LX', 'Pontiac Lemans V6',\n",
       "       'Mercury Zephyr 6', 'Ford Fairmont 4', 'AMC Concord DL 6',\n",
       "       'Dodge Aspen 6', 'Ford LTD Landau', 'Mercury Grand Marquis',\n",
       "       'Dodge St. Regis', 'Chevrolet Malibu Classic (sw)',\n",
       "       'Chrysler Lebaron Town @ Country (sw)',\n",
       "       'Dodge Colt Hatchback Custom', 'AMC Spirit DL',\n",
       "       'Mercedes Benz 300d', 'Cadillac Eldorado', 'Plymouth Horizon',\n",
       "       'Plymouth Horizon TC3', 'Datsun 210', 'Fiat Strada Custom',\n",
       "       'Buick Skylark Limited', 'Chevrolet Citation',\n",
       "       'Oldsmobile Omega Brougham', 'Pontiac Phoenix',\n",
       "       'Toyota Corolla Tercel', 'Datsun 310', 'Ford Fairmont',\n",
       "       'Audi 4000', 'Mazda 626', 'Datsun 510 Hatchback', 'Mazda GLC',\n",
       "       'Volkswagen Rabbit C (Diesel)', 'Volkswagen Dasher (diesel)',\n",
       "       'Audi 5000s (diesel)', 'Mercedes-Benz 240d', 'Honda Civic 1500 gl',\n",
       "       'Renault Lecar Deluxe', 'Datsun 280-ZX', 'Mazda RX-7 GS',\n",
       "       'Triumph TR7 Coupe', 'Ford Mustang Cobra', 'Honda Accord',\n",
       "       'Plymouth Reliant', 'Dodge Aries Wagon (sw)', 'Toyota Starlet',\n",
       "       'Plymouth Champ', 'Honda Civic 1300', 'Datsun 210 MPG',\n",
       "       'Toyota Tercel', 'Mazda GLC 4', 'Plymouth Horizon 4',\n",
       "       'Ford Escort 4W', 'Ford Escort 2H', 'Volkswagen Jetta',\n",
       "       'Renault 18i', 'Honda Prelude', 'Datsun 200SX',\n",
       "       'Peugeot 505s Turbo Diesel', 'Saab 900s', 'Volvo Diesel',\n",
       "       'Toyota Cressida', 'Datsun 810 Maxima', 'Oldsmobile Cutlass LS',\n",
       "       'Ford Grenada gl', 'Chrysler Lebaron Salon', 'Chevrolet Cavalier',\n",
       "       'Chevrolet Cavalier Wagon', 'Chevrolet Cavalier 2-door',\n",
       "       'Pontiac J2000 SE Hatchback', 'Dodge Aries SE',\n",
       "       'Ford Fairmont Futura', 'AMC Concord DL', 'Volkswagen Rabbit l',\n",
       "       'Mazda GLC Custom l', 'Mazda GLC Custom', 'Plymouth Horizon Miser',\n",
       "       'Mercury Lynx l', 'Nissan Stanza XE', 'Honda Civic (auto)',\n",
       "       'Datsun 310 GX', 'Buick Century Limited',\n",
       "       'Oldsmobile Cutlass Ciera (diesel)', 'Chrysler Lebaron Medallion',\n",
       "       'Ford Grenada l', 'Toyota Celica GT', 'Dodge Charger 2.2',\n",
       "       'Chevrolet Camaro', 'Ford Mustang GL', 'Volkswagen Pickup',\n",
       "       'Dodge Rampage', 'Ford Ranger', 'Chevy S-10'], dtype=object)"
      ]
     },
     "execution_count": 19,
     "metadata": {},
     "output_type": "execute_result"
    }
   ],
   "source": [
    "data['Car'].unique()"
   ]
  },
  {
   "cell_type": "code",
   "execution_count": 20,
   "metadata": {},
   "outputs": [
    {
     "data": {
      "text/plain": [
       "array(['18.0', '15.0', '16.0', '17.0', '14.0', '0', '24.0', '22.0',\n",
       "       '21.0', '27.0', '26.0', '25.0', '10.0', '11.0', '9.0', '28.0',\n",
       "       '19.0', '12.0', '13.0', '23.0', '30.0', '31.0', '35.0', '20.0',\n",
       "       '29.0', '32.0', '33.0', '17.5', '15.5', '14.5', '22.5', '24.5',\n",
       "       '18.5', '29.5', '26.5', '16.5', '31.5', '36.0', '25.5', '33.5',\n",
       "       '20.5', '30.5', '21.5', '43.1', '36.1', '32.8', '39.4', '19.9',\n",
       "       '19.4', '20.2', '19.2', '25.1', '20.6', '20.8', '18.6', '18.1',\n",
       "       '17.7', '27.5', '27.2', '30.9', '21.1', '23.2', '23.8', '23.9',\n",
       "       '20.3', '21.6', '16.2', '19.8', '22.3', '17.6', '18.2', '16.9',\n",
       "       '31.9', '34.1', '35.7', '27.4', '25.4', '34.2', '34.5', '31.8',\n",
       "       '37.3', '28.4', '28.8', '26.8', '41.5', '38.1', '32.1', '37.2',\n",
       "       '26.4', '24.3', '19.1', '34.3', '29.8', '31.3', '37.0', '32.2',\n",
       "       '46.6', '27.9', '40.8', '44.3', '43.4', '36.4', '44.6', '40.9',\n",
       "       '33.8', '32.7', '23.7', '23.6', '32.4', '26.6', '25.8', '23.5',\n",
       "       '39.1', '39.0', '35.1', '32.3', '37.7', '34.7', '34.4', '29.9',\n",
       "       '33.7', '32.9', '31.6', '28.1', '30.7', '24.2', '22.4', '34.0',\n",
       "       '38.0', '44.0'], dtype=object)"
      ]
     },
     "execution_count": 20,
     "metadata": {},
     "output_type": "execute_result"
    }
   ],
   "source": [
    "data['MPG'].unique()"
   ]
  },
  {
   "cell_type": "code",
   "execution_count": 21,
   "metadata": {},
   "outputs": [
    {
     "data": {
      "text/plain": [
       "array(['8', '4', '6', '3', '5'], dtype=object)"
      ]
     },
     "execution_count": 21,
     "metadata": {},
     "output_type": "execute_result"
    }
   ],
   "source": [
    "data['Cylinders'].unique()"
   ]
  },
  {
   "cell_type": "code",
   "execution_count": 22,
   "metadata": {},
   "outputs": [
    {
     "data": {
      "text/plain": [
       "array(['307.0', '350.0', '318.0', '304.0', '302.0', '429.0', '454.0',\n",
       "       '440.0', '455.0', '390.0', '133.0', '351.0', '383.0', '360.0',\n",
       "       '340.0', '400.0', '113.0', '198.0', '199.0', '200.0', '97.00',\n",
       "       '110.0', '107.0', '104.0', '121.0', '140.0', '98.00', '232.0',\n",
       "       '225.0', '250.0', '258.0', '122.0', '116.0', '79.00', '88.00',\n",
       "       '71.00', '72.00', '91.00', '97.50', '70.00', '120.0', '96.00',\n",
       "       '108.0', '155.0', '68.00', '114.0', '156.0', '76.00', '83.00',\n",
       "       '90.00', '231.0', '262.0', '134.0', '119.0', '171.0', '115.0',\n",
       "       '101.0', '305.0', '85.00', '130.0', '168.0', '111.0', '260.0',\n",
       "       '151.0', '146.0', '80.00', '78.00', '105.0', '131.0', '163.0',\n",
       "       '89.00', '267.0', '86.00', '183.0', '141.0', '173.0', '135.0',\n",
       "       '81.00', '100.0', '145.0', '112.0', '181.0', '144.0'], dtype=object)"
      ]
     },
     "execution_count": 22,
     "metadata": {},
     "output_type": "execute_result"
    }
   ],
   "source": [
    "data['Displacement'].unique()"
   ]
  },
  {
   "cell_type": "code",
   "execution_count": 23,
   "metadata": {},
   "outputs": [
    {
     "data": {
      "text/plain": [
       "array(['130.0', '165.0', '150.0', '140.0', '198.0', '220.0', '215.0',\n",
       "       '225.0', '190.0', '115.0', '153.0', '175.0', '170.0', '160.0',\n",
       "       '95.00', '97.00', '85.00', '88.00', '46.00', '87.00', '90.00',\n",
       "       '113.0', '200.0', '210.0', '193.0', '0', '48.00', '100.0', '105.0',\n",
       "       '180.0', '110.0', '72.00', '86.00', '70.00', '76.00', '65.00',\n",
       "       '69.00', '60.00', '80.00', '54.00', '208.0', '155.0', '112.0',\n",
       "       '92.00', '145.0', '137.0', '158.0', '167.0', '94.00', '107.0',\n",
       "       '230.0', '49.00', '75.00', '91.00', '122.0', '67.00', '83.00',\n",
       "       '78.00', '52.00', '61.00', '93.00', '148.0', '129.0', '96.00',\n",
       "       '71.00', '98.00', '53.00', '81.00', '79.00', '120.0', '152.0',\n",
       "       '102.0', '108.0', '68.00', '58.00', '149.0', '89.00', '63.00',\n",
       "       '66.00', '139.0', '103.0', '125.0', '133.0', '138.0', '135.0',\n",
       "       '142.0', '77.00', '62.00', '132.0', '84.00', '64.00', '74.00',\n",
       "       '116.0', '82.00'], dtype=object)"
      ]
     },
     "execution_count": 23,
     "metadata": {},
     "output_type": "execute_result"
    }
   ],
   "source": [
    "data['Horsepower'].unique()"
   ]
  },
  {
   "cell_type": "code",
   "execution_count": 24,
   "metadata": {},
   "outputs": [
    {
     "data": {
      "text/plain": [
       "array(['12.0', '11.5', '11.0', '10.5', '10.0', '9.0', '8.5', '17.5',\n",
       "       '8.0', '9.5', '15.0', '15.5', '16.0', '14.5', '20.5', '12.5',\n",
       "       '14.0', '13.5', '18.5', '19.0', '20.0', '13.0', '19.5', '18.0',\n",
       "       '17.0', '23.5', '16.5', '21.0', '9.50', '16.9', '14.9', '17.7',\n",
       "       '15.3', '13.9', '12.8', '15.4', '17.6', '22.2', '22.1', '14.2',\n",
       "       '17.4', '16.2', '17.8', '12.2', '16.4', '13.6', '15.7', '13.2',\n",
       "       '21.9', '16.7', '12.1', '14.8', '18.6', '16.8', '13.7', '11.1',\n",
       "       '11.4', '18.2', '15.8', '15.9', '14.1', '21.5', '14.4', '19.4',\n",
       "       '19.2', '17.2', '18.7', '15.1', '13.4', '11.2', '14.7', '16.6',\n",
       "       '17.3', '15.2', '14.3', '20.1', '24.8', '11.3', '12.9', '18.8',\n",
       "       '18.1', '17.9', '21.7', '23.7', '19.9', '21.8', '13.8', '12.6',\n",
       "       '16.1', '20.7', '18.3', '20.4', '19.6', '17.1', '15.6', '24.6',\n",
       "       '11.6'], dtype=object)"
      ]
     },
     "execution_count": 24,
     "metadata": {},
     "output_type": "execute_result"
    }
   ],
   "source": [
    "data['Acceleration'].unique()"
   ]
  },
  {
   "cell_type": "code",
   "execution_count": 25,
   "metadata": {},
   "outputs": [
    {
     "data": {
      "text/plain": [
       "array(['3504.', '3693.', '3436.', '3433.', '3449.', '4341.', '4354.',\n",
       "       '4312.', '4425.', '3850.', '3090.', '4142.', '4034.', '4166.',\n",
       "       '3563.', '3609.', '3353.', '3761.', '3086.', '2372.', '2833.',\n",
       "       '2774.', '2587.', '2130.', '1835.', '2672.', '2430.', '2375.',\n",
       "       '2234.', '2648.', '4615.', '4376.', '4382.', '4732.', '2264.',\n",
       "       '2228.', '2046.', '1978.', '2634.', '3439.', '3329.', '3302.',\n",
       "       '3288.', '4209.', '4464.', '4154.', '4096.', '4955.', '4746.',\n",
       "       '5140.', '2962.', '2408.', '3282.', '3139.', '2220.', '2123.',\n",
       "       '2074.', '2065.', '1773.', '1613.', '1834.', '1955.', '2278.',\n",
       "       '2126.', '2254.', '2226.', '4274.', '4385.', '4135.', '4129.',\n",
       "       '3672.', '4633.', '4502.', '4456.', '4422.', '2330.', '3892.',\n",
       "       '4098.', '4294.', '4077.', '2933.', '2511.', '2979.', '2189.',\n",
       "       '2395.', '2288.', '2506.', '2164.', '2100.', '4100.', '3988.',\n",
       "       '4042.', '3777.', '4952.', '4363.', '4237.', '4735.', '4951.',\n",
       "       '3821.', '3121.', '3278.', '2945.', '3021.', '2904.', '1950.',\n",
       "       '4997.', '4906.', '4654.', '4499.', '2789.', '2279.', '2401.',\n",
       "       '2379.', '2124.', '2310.', '2472.', '2265.', '4082.', '4278.',\n",
       "       '1867.', '2158.', '2582.', '2868.', '3399.', '2660.', '2807.',\n",
       "       '3664.', '3102.', '2875.', '2901.', '3336.', '2451.', '1836.',\n",
       "       '2542.', '3781.', '3632.', '3613.', '4141.', '4699.', '4457.',\n",
       "       '4638.', '4257.', '2219.', '1963.', '2300.', '1649.', '2003.',\n",
       "       '2125.', '2108.', '2246.', '2489.', '2391.', '2000.', '3264.',\n",
       "       '3459.', '3432.', '3158.', '4668.', '4440.', '4498.', '4657.',\n",
       "       '3907.', '3897.', '3730.', '3785.', '3039.', '3221.', '3169.',\n",
       "       '2171.', '2639.', '2914.', '2592.', '2702.', '2223.', '2545.',\n",
       "       '2984.', '1937.', '3211.', '2694.', '2957.', '2671.', '1795.',\n",
       "       '2464.', '2572.', '2255.', '2202.', '4215.', '4190.', '3962.',\n",
       "       '3233.', '3012.', '3085.', '2035.', '3651.', '3574.', '3645.',\n",
       "       '3193.', '1825.', '1990.', '2155.', '2565.', '3150.', '3940.',\n",
       "       '3270.', '2930.', '3820.', '4380.', '4055.', '3870.', '3755.',\n",
       "       '2045.', '1945.', '3880.', '4060.', '4140.', '4295.', '3520.',\n",
       "       '3425.', '3630.', '3525.', '4220.', '4165.', '4325.', '4335.',\n",
       "       '1940.', '2740.', '2755.', '2051.', '2075.', '1985.', '2190.',\n",
       "       '2815.', '2600.', '2720.', '1800.', '2070.', '3365.', '3735.',\n",
       "       '3570.', '3535.', '3155.', '2965.', '3430.', '3210.', '3380.',\n",
       "       '3070.', '3620.', '3410.', '3445.', '3205.', '4080.', '2560.',\n",
       "       '2230.', '2515.', '2745.', '2855.', '2405.', '2830.', '3140.',\n",
       "       '2795.', '2135.', '3245.', '2990.', '2890.', '3265.', '3360.',\n",
       "       '3840.', '3725.', '3955.', '3830.', '4360.', '4054.', '3605.',\n",
       "       '1925.', '1975.', '1915.', '2670.', '3530.', '3900.', '3190.',\n",
       "       '3420.', '2200.', '2150.', '2020.', '2595.', '2700.', '2556.',\n",
       "       '2144.', '1968.', '2120.', '2019.', '2678.', '2870.', '3003.',\n",
       "       '3381.', '2188.', '2711.', '2434.', '2110.', '2800.', '2085.',\n",
       "       '2335.', '2950.', '3250.', '1850.', '2145.', '1845.', '2910.',\n",
       "       '2420.', '2500.', '2905.', '2290.', '2490.', '2635.', '2620.',\n",
       "       '2725.', '2385.', '1755.', '1875.', '1760.', '2050.', '2215.',\n",
       "       '2380.', '2320.', '2210.', '2350.', '2615.', '3230.', '3160.',\n",
       "       '2900.', '3415.', '3060.', '3465.', '2605.', '2640.', '2575.',\n",
       "       '2525.', '2735.', '2865.', '3035.', '1980.', '2025.', '1970.',\n",
       "       '2160.', '2205.', '2245', '1965.', '1995.', '3015.', '2585.',\n",
       "       '2835', '2665.', '2370.', '2790.', '2295.', '2625.'], dtype=object)"
      ]
     },
     "execution_count": 25,
     "metadata": {},
     "output_type": "execute_result"
    }
   ],
   "source": [
    "data['Weight'].unique()"
   ]
  },
  {
   "cell_type": "code",
   "execution_count": 26,
   "metadata": {},
   "outputs": [
    {
     "data": {
      "text/plain": [
       "array(['70', '71', '72', '73', '74', '75', '76', '77', '78', '79', '80',\n",
       "       '81', '82'], dtype=object)"
      ]
     },
     "execution_count": 26,
     "metadata": {},
     "output_type": "execute_result"
    }
   ],
   "source": [
    "data['Model'].unique()"
   ]
  },
  {
   "cell_type": "code",
   "execution_count": 27,
   "metadata": {},
   "outputs": [
    {
     "data": {
      "text/plain": [
       "array(['US', 'Europe', 'Japan'], dtype=object)"
      ]
     },
     "execution_count": 27,
     "metadata": {},
     "output_type": "execute_result"
    }
   ],
   "source": [
    "data['Origin'].unique()"
   ]
  },
  {
   "cell_type": "code",
   "execution_count": 28,
   "metadata": {},
   "outputs": [
    {
     "name": "stdout",
     "output_type": "stream",
     "text": [
      "<class 'pandas.core.frame.DataFrame'>\n",
      "Int64Index: 406 entries, 1 to 406\n",
      "Data columns (total 9 columns):\n",
      " #   Column        Non-Null Count  Dtype \n",
      "---  ------        --------------  ----- \n",
      " 0   Car           406 non-null    object\n",
      " 1   MPG           406 non-null    object\n",
      " 2   Cylinders     406 non-null    object\n",
      " 3   Displacement  406 non-null    object\n",
      " 4   Horsepower    406 non-null    object\n",
      " 5   Weight        406 non-null    object\n",
      " 6   Acceleration  406 non-null    object\n",
      " 7   Model         406 non-null    object\n",
      " 8   Origin        406 non-null    object\n",
      "dtypes: object(9)\n",
      "memory usage: 31.7+ KB\n"
     ]
    }
   ],
   "source": [
    "data.info()"
   ]
  },
  {
   "cell_type": "markdown",
   "metadata": {},
   "source": [
    "Observation : we can see \"cylienders\",\"Displacement\",\"Horsepower\",\"Weight\",\"Acceleration\",\"Model\" looks like a numerical variables. But after we study each columns unique values, they all fallls in a particular category. So therefore its data type is Objective."
   ]
  },
  {
   "cell_type": "markdown",
   "metadata": {},
   "source": [
    "#### Statistical insights"
   ]
  },
  {
   "cell_type": "code",
   "execution_count": 29,
   "metadata": {},
   "outputs": [
    {
     "data": {
      "text/html": [
       "<div>\n",
       "<style scoped>\n",
       "    .dataframe tbody tr th:only-of-type {\n",
       "        vertical-align: middle;\n",
       "    }\n",
       "\n",
       "    .dataframe tbody tr th {\n",
       "        vertical-align: top;\n",
       "    }\n",
       "\n",
       "    .dataframe thead th {\n",
       "        text-align: right;\n",
       "    }\n",
       "</style>\n",
       "<table border=\"1\" class=\"dataframe\">\n",
       "  <thead>\n",
       "    <tr style=\"text-align: right;\">\n",
       "      <th></th>\n",
       "      <th>count</th>\n",
       "      <th>unique</th>\n",
       "      <th>top</th>\n",
       "      <th>freq</th>\n",
       "    </tr>\n",
       "  </thead>\n",
       "  <tbody>\n",
       "    <tr>\n",
       "      <th>Car</th>\n",
       "      <td>406</td>\n",
       "      <td>308</td>\n",
       "      <td>Toyota Corolla</td>\n",
       "      <td>9</td>\n",
       "    </tr>\n",
       "    <tr>\n",
       "      <th>MPG</th>\n",
       "      <td>406</td>\n",
       "      <td>130</td>\n",
       "      <td>13.0</td>\n",
       "      <td>20</td>\n",
       "    </tr>\n",
       "    <tr>\n",
       "      <th>Cylinders</th>\n",
       "      <td>406</td>\n",
       "      <td>5</td>\n",
       "      <td>4</td>\n",
       "      <td>207</td>\n",
       "    </tr>\n",
       "    <tr>\n",
       "      <th>Displacement</th>\n",
       "      <td>406</td>\n",
       "      <td>83</td>\n",
       "      <td>97.00</td>\n",
       "      <td>22</td>\n",
       "    </tr>\n",
       "    <tr>\n",
       "      <th>Horsepower</th>\n",
       "      <td>406</td>\n",
       "      <td>94</td>\n",
       "      <td>150.0</td>\n",
       "      <td>22</td>\n",
       "    </tr>\n",
       "    <tr>\n",
       "      <th>Weight</th>\n",
       "      <td>406</td>\n",
       "      <td>356</td>\n",
       "      <td>1985.</td>\n",
       "      <td>4</td>\n",
       "    </tr>\n",
       "    <tr>\n",
       "      <th>Acceleration</th>\n",
       "      <td>406</td>\n",
       "      <td>97</td>\n",
       "      <td>14.5</td>\n",
       "      <td>23</td>\n",
       "    </tr>\n",
       "    <tr>\n",
       "      <th>Model</th>\n",
       "      <td>406</td>\n",
       "      <td>13</td>\n",
       "      <td>73</td>\n",
       "      <td>40</td>\n",
       "    </tr>\n",
       "    <tr>\n",
       "      <th>Origin</th>\n",
       "      <td>406</td>\n",
       "      <td>3</td>\n",
       "      <td>US</td>\n",
       "      <td>254</td>\n",
       "    </tr>\n",
       "  </tbody>\n",
       "</table>\n",
       "</div>"
      ],
      "text/plain": [
       "             count unique             top freq\n",
       "Car            406    308  Toyota Corolla    9\n",
       "MPG            406    130            13.0   20\n",
       "Cylinders      406      5               4  207\n",
       "Displacement   406     83           97.00   22\n",
       "Horsepower     406     94           150.0   22\n",
       "Weight         406    356           1985.    4\n",
       "Acceleration   406     97            14.5   23\n",
       "Model          406     13              73   40\n",
       "Origin         406      3              US  254"
      ]
     },
     "execution_count": 29,
     "metadata": {},
     "output_type": "execute_result"
    }
   ],
   "source": [
    "data.describe().T"
   ]
  },
  {
   "cell_type": "markdown",
   "metadata": {},
   "source": [
    "#### Graphical insights"
   ]
  },
  {
   "cell_type": "code",
   "execution_count": 31,
   "metadata": {},
   "outputs": [
    {
     "data": {
      "text/plain": [
       "<matplotlib.axes._subplots.AxesSubplot at 0x2446ebe89c8>"
      ]
     },
     "execution_count": 31,
     "metadata": {},
     "output_type": "execute_result"
    },
    {
     "data": {
      "image/png": "[encoded data removed]",
      "text/plain": [
       "<Figure size 1080x720 with 1 Axes>"
      ]
     },
     "metadata": {
      "needs_background": "light"
     },
     "output_type": "display_data"
    }
   ],
   "source": [
    "plt.figure(figsize=(15,10))\n",
    "sns.countplot(x='Car',data=data)"
   ]
  },
  {
   "cell_type": "markdown",
   "metadata": {},
   "source": [
    "Observation : Hence here are lots of points so we are not able to see all things clearly and cannot decide anything. So to overcome this problem we will choose top frequent cars."
   ]
  },
  {
   "cell_type": "code",
   "execution_count": 39,
   "metadata": {},
   "outputs": [
    {
     "data": {
      "text/plain": [
       "<matplotlib.axes._subplots.AxesSubplot at 0x24479a46308>"
      ]
     },
     "execution_count": 39,
     "metadata": {},
     "output_type": "execute_result"
    },
    {
     "data": {
      "image/png": "[encoded data removed]",
      "text/plain": [
       "<Figure size 432x288 with 1 Axes>"
      ]
     },
     "metadata": {
      "needs_background": "light"
     },
     "output_type": "display_data"
    }
   ],
   "source": [
    "data['Car'].value_counts()[:10].plot(kind='bar')"
   ]
  },
  {
   "cell_type": "markdown",
   "metadata": {},
   "source": [
    "Observation :  here we can see top 10 cars has maximum no. of frequencies. Toyota Corolla is quiet prefered and has high number of frequency."
   ]
  },
  {
   "cell_type": "code",
   "execution_count": 67,
   "metadata": {},
   "outputs": [
    {
     "data": {
      "text/plain": [
       "<matplotlib.axes._subplots.AxesSubplot at 0x2447cb358c8>"
      ]
     },
     "execution_count": 67,
     "metadata": {},
     "output_type": "execute_result"
    },
    {
     "data": {
      "image/png": "[encoded data removed]",
      "text/plain": [
       "<Figure size 1080x720 with 1 Axes>"
      ]
     },
     "metadata": {
      "needs_background": "light"
     },
     "output_type": "display_data"
    }
   ],
   "source": [
    "plt.figure(figsize=(15,10))\n",
    "sns.countplot(x='MPG',data=data)"
   ]
  },
  {
   "cell_type": "code",
   "execution_count": 70,
   "metadata": {},
   "outputs": [
    {
     "data": {
      "text/plain": [
       "<matplotlib.axes._subplots.AxesSubplot at 0x2447d3dfbc8>"
      ]
     },
     "execution_count": 70,
     "metadata": {},
     "output_type": "execute_result"
    },
    {
     "data": {
      "image/png": "[encoded data removed]",
      "text/plain": [
       "<Figure size 432x288 with 1 Axes>"
      ]
     },
     "metadata": {
      "needs_background": "light"
     },
     "output_type": "display_data"
    }
   ],
   "source": [
    "data['MPG'].value_counts()[:20].plot(kind='bar')"
   ]
  },
  {
   "cell_type": "markdown",
   "metadata": {},
   "source": [
    "Observation : \n",
    "       1.we can see that the few cars has a MPG of 0. \n",
    "       2.Highest frequency of cars i.e 20 having 13.0 as Mpg."
   ]
  },
  {
   "cell_type": "code",
   "execution_count": 50,
   "metadata": {},
   "outputs": [
    {
     "data": {
      "text/plain": [
       "<matplotlib.axes._subplots.AxesSubplot at 0x2447aa77588>"
      ]
     },
     "execution_count": 50,
     "metadata": {},
     "output_type": "execute_result"
    },
    {
     "data": {
      "image/png": "[encoded data removed]",
      "text/plain": [
       "<Figure size 432x288 with 1 Axes>"
      ]
     },
     "metadata": {
      "needs_background": "light"
     },
     "output_type": "display_data"
    }
   ],
   "source": [
    "data['Cylinders'].value_counts().plot(kind='bar')"
   ]
  },
  {
   "cell_type": "markdown",
   "metadata": {},
   "source": [
    "Observation : \n",
    "    1. Approximately 50% of car's having 4 cylinders.\n",
    "    2. Its rarley seen car's having 3 or 5 cylinders in it. "
   ]
  },
  {
   "cell_type": "code",
   "execution_count": 51,
   "metadata": {},
   "outputs": [
    {
     "data": {
      "text/plain": [
       "<matplotlib.axes._subplots.AxesSubplot at 0x2447aad7fc8>"
      ]
     },
     "execution_count": 51,
     "metadata": {},
     "output_type": "execute_result"
    },
    {
     "data": {
      "image/png": "[encoded data removed]",
      "text/plain": [
       "<Figure size 432x288 with 1 Axes>"
      ]
     },
     "metadata": {
      "needs_background": "light"
     },
     "output_type": "display_data"
    }
   ],
   "source": [
    "data['Origin'].value_counts().plot(kind='bar')"
   ]
  },
  {
   "cell_type": "markdown",
   "metadata": {},
   "source": [
    "Observation : \n",
    "    1. More than 50 % car's has \"US\" origin."
   ]
  },
  {
   "cell_type": "code",
   "execution_count": 52,
   "metadata": {},
   "outputs": [
    {
     "data": {
      "text/plain": [
       "<matplotlib.axes._subplots.AxesSubplot at 0x2447ab39108>"
      ]
     },
     "execution_count": 52,
     "metadata": {},
     "output_type": "execute_result"
    },
    {
     "data": {
      "image/png": "[encoded data removed]",
      "text/plain": [
       "<Figure size 432x288 with 1 Axes>"
      ]
     },
     "metadata": {
      "needs_background": "light"
     },
     "output_type": "display_data"
    }
   ],
   "source": [
    "data['Model'].value_counts().plot(kind='bar')"
   ]
  },
  {
   "cell_type": "markdown",
   "metadata": {},
   "source": [
    "observation :\n",
    "    1. 73 is the popular model of the car with frequency of 40.\n",
    "    2. The data has information of 13 models.\n",
    "    3. Model number 71,80,79 has equal number of cars."
   ]
  },
  {
   "cell_type": "code",
   "execution_count": 55,
   "metadata": {},
   "outputs": [
    {
     "data": {
      "text/plain": [
       "<matplotlib.axes._subplots.AxesSubplot at 0x2447abfde08>"
      ]
     },
     "execution_count": 55,
     "metadata": {},
     "output_type": "execute_result"
    },
    {
     "data": {
      "image/png": "[encoded data removed]",
      "text/plain": [
       "<Figure size 432x288 with 1 Axes>"
      ]
     },
     "metadata": {
      "needs_background": "light"
     },
     "output_type": "display_data"
    }
   ],
   "source": [
    "data['Horsepower'].value_counts()[:10].plot(kind='bar')"
   ]
  },
  {
   "cell_type": "markdown",
   "metadata": {},
   "source": [
    "Above are the top 10 cars having highest horsepower."
   ]
  },
  {
   "cell_type": "code",
   "execution_count": 59,
   "metadata": {},
   "outputs": [
    {
     "data": {
      "text/plain": [
       "<matplotlib.axes._subplots.AxesSubplot at 0x2447addadc8>"
      ]
     },
     "execution_count": 59,
     "metadata": {},
     "output_type": "execute_result"
    },
    {
     "data": {
      "image/png": "[encoded data removed]",
      "text/plain": [
       "<Figure size 1080x720 with 1 Axes>"
      ]
     },
     "metadata": {
      "needs_background": "light"
     },
     "output_type": "display_data"
    }
   ],
   "source": [
    "plt.figure(figsize=(15,10))\n",
    "data['Weight'].value_counts()[:25].plot(kind='bar')"
   ]
  },
  {
   "cell_type": "code",
   "execution_count": 61,
   "metadata": {},
   "outputs": [
    {
     "data": {
      "text/plain": [
       "<matplotlib.axes._subplots.AxesSubplot at 0x2447b2f9188>"
      ]
     },
     "execution_count": 61,
     "metadata": {},
     "output_type": "execute_result"
    },
    {
     "data": {
      "image/png": "[encoded data removed]",
      "text/plain": [
       "<Figure size 432x288 with 1 Axes>"
      ]
     },
     "metadata": {
      "needs_background": "light"
     },
     "output_type": "display_data"
    }
   ],
   "source": [
    "data['Acceleration'].value_counts()[:10].plot(kind='bar')"
   ]
  },
  {
   "cell_type": "code",
   "execution_count": null,
   "metadata": {},
   "outputs": [],
   "source": []
  }
 ],
 "metadata": {
  "kernelspec": {
   "display_name": "Python 3",
   "language": "python",
   "name": "python3"
  },
  "language_info": {
   "codemirror_mode": {
    "name": "ipython",
    "version": 3
   },
   "file_extension": ".py",
   "mimetype": "text/x-python",
   "name": "python",
   "nbconvert_exporter": "python",
   "pygments_lexer": "ipython3",
   "version": "3.7.4"
  }
 },
 "nbformat": 4,
 "nbformat_minor": 2
}
